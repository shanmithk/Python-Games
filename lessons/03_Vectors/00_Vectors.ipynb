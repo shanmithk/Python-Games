{
 "cells": [
  {
   "cell_type": "markdown",
   "metadata": {},
   "source": [
    "# Vectors\n",
    "\n",
    "Our programs have all been 2 dimensional, so we need to work with both x and y\n",
    "values. Now that we have a good understanding of how objects work, we can start\n",
    "working with vectors, which are objects that combine the x and y values into a\n",
    "single object. \n",
    "\n",
    "There are two ways of thinking about vectors. \n",
    "* One is as a position, which is a point in space, which has a X and Y position. \n",
    "* The other is as a direction and a magnitude, which is a line with a length and\n",
    "a direction.\n",
    "\n",
    "Here is what the vector (x=8, y=8) looks like:\n",
    "\n",
    "![Vector](images/v88.png)\n",
    "\n",
    "This vector represents the point (8,8) on a grid, and if we draw a line from the\n",
    "origin (0,0) to the point (8,8), we get a line that is 11.3 units long, at an\n",
    "angle of 45 degrees. So, it can both be a point and a line, as long as we can\n",
    "assume a starting point for the line. \n",
    "\n",
    "Here is a really simple Vector class that we can use to represent vectors:\n",
    "\n"
   ]
  },
  {
   "cell_type": "code",
   "execution_count": 6,
   "metadata": {},
   "outputs": [
    {
     "name": "stdout",
     "output_type": "stream",
     "text": [
      "Vector: Vector(4, 4)\n",
      "Magnitude: 5.656854249492381\n",
      "Direction: 45.0°\n"
     ]
    }
   ],
   "source": [
    "\n",
    "import math\n",
    "\n",
    "class Vector:\n",
    "    def __init__(self, x, y):\n",
    "        self.x = x\n",
    "        self.y = y\n",
    "\n",
    "    @property\n",
    "    def magnitude(self): # magnitude is the length of the vector\n",
    "        # Magnitude of the vector: sqrt(x^2 + y^2)\n",
    "        return math.sqrt(self.x**2 + self.y**2)\n",
    "\n",
    "    @property\n",
    "    def direction(self):\n",
    "        # Direction (angle) in radians: atan2(y, x)\n",
    "        return math.atan2(self.y, self.x) * 180 / math.pi\n",
    "\n",
    "    def __repr__(self):\n",
    "        return f\"Vector({self.x}, {self.y})\"\n",
    "\n",
    "# Example usage:\n",
    "v = Vector(4, 4)\n",
    "print(f\"Vector: {v}\")\n",
    "print(f\"Magnitude: {v.magnitude}\")\n",
    "print(f\"Direction: {v.direction}°\")\n"
   ]
  },
  {
   "cell_type": "markdown",
   "metadata": {},
   "source": [
    "\n",
    "\n",
    "As you can see, your create the vector by passing in the x and y values, and\n",
    "then you can calculate the length and angle using trigonometry.\n",
    "\n",
    "If we have a vector that is a position, we can add two vectors together to get a\n",
    "new vector that is the sum of the two. This is called vector addition. If we\n",
    "have a vector that is a direction and magnitude, we can multiply the vector by a\n",
    "scalar ( a single number ) to get a new vector that is the original vector\n",
    "multiplied by the scalar. This is called scalar multiplication.\n",
    "\n",
    "So, suppose that we have a vector called `p1`, which is the position of the player, at\n",
    "x=100 and y=100. We can write this as:\n",
    "\n"
   ]
  },
  {
   "cell_type": "code",
   "execution_count": 7,
   "metadata": {},
   "outputs": [
    {
     "data": {
      "text/plain": [
       "<Vector2(100, 100)>"
      ]
     },
     "execution_count": 7,
     "metadata": {},
     "output_type": "execute_result"
    }
   ],
   "source": [
    "\n",
    "from pygame.math import Vector2 # Using PyGame's Vector, which has a lot more features\n",
    "\n",
    "p1 = Vector2(100, 100)\n",
    "\n",
    "p1"
   ]
  },
  {
   "cell_type": "markdown",
   "metadata": {},
   "source": [
    "\n",
    "Now, suppose that we have a vector called `move`, which is the amount we want to\n",
    "move the player. We can move the player just by adding the move vector to the\n",
    "player vector. We can write this as:\n",
    "\n"
   ]
  },
  {
   "cell_type": "code",
   "execution_count": 8,
   "metadata": {},
   "outputs": [
    {
     "data": {
      "text/plain": [
       "<Vector2(110, 100)>"
      ]
     },
     "execution_count": 8,
     "metadata": {},
     "output_type": "execute_result"
    }
   ],
   "source": [
    "\n",
    "move = Vector2(10, 0) # Move 10 pixels to the right, none up/down\n",
    "\n",
    "p1 += move\n",
    "p1"
   ]
  },
  {
   "cell_type": "markdown",
   "metadata": {},
   "source": [
    "\n",
    "Now, `p1` is at x=110 and y=100. To get that, we added the x values of the two\n",
    "vectors together, and the y values of the two vectors together. So the new x\n",
    "value is 100 + 10 = 110, and the new y value is 100 + 0 = 100.\n"
   ]
  },
  {
   "cell_type": "markdown",
   "metadata": {},
   "source": [
    "\n",
    "For a more detaied example. run the program `01a_vector_example.py.` This program has a custom version\n",
    "of the vector class that displays on a larger grid. Here is what the programs output looks like:\n",
    "\n",
    "![Vector Example](images/vector_grid.png)\n",
    "\n",
    "\n",
    "Here are the vectors that are displayed in the program:\n",
    "\n",
    "```python \n",
    "v0 = Vector20(0,0)\n",
    "v1 = Vector20(8, 8)  \n",
    "v2 = Vector20(3, -12)  \n",
    "v3 = Vector20(-4, -2)  \n",
    "v4 = Vector20(-12, 0) \n",
    "v5 = Vector20(0, 12)\n",
    "```\n",
    "\n",
    "Compare the code to the output to see how the vectors are displayed on the grid. Notice that we can move from one place\n",
    "to another on the grid by adding the vectors together. For example, to move from v0 to v1, we can add v0 to v1. \n",
    "\n",
    "\n",
    "\n",
    "## Rotations\n",
    "Or, suppose that we want to move the player 100 pixels in the direction of 45 degrees. We can write this as:\n"
   ]
  },
  {
   "cell_type": "code",
   "execution_count": 1,
   "metadata": {},
   "outputs": [
    {
     "ename": "NameError",
     "evalue": "name 'Vector2' is not defined",
     "output_type": "error",
     "traceback": [
      "\u001b[0;31m---------------------------------------------------------------------------\u001b[0m",
      "\u001b[0;31mNameError\u001b[0m                                 Traceback (most recent call last)",
      "Cell \u001b[0;32mIn[1], line 1\u001b[0m\n\u001b[0;32m----> 1\u001b[0m p1 \u001b[38;5;241m=\u001b[39m \u001b[43mVector2\u001b[49m(\u001b[38;5;241m100\u001b[39m, \u001b[38;5;241m100\u001b[39m)\n\u001b[1;32m      2\u001b[0m move \u001b[38;5;241m=\u001b[39m Vector2(\u001b[38;5;241m100\u001b[39m, \u001b[38;5;241m0\u001b[39m)\n\u001b[1;32m      3\u001b[0m move\u001b[38;5;241m.\u001b[39mrotate_ip(\u001b[38;5;241m45\u001b[39m) \u001b[38;5;66;03m# rotate the vector \"in-place\"\u001b[39;00m\n",
      "\u001b[0;31mNameError\u001b[0m: name 'Vector2' is not defined"
     ]
    }
   ],
   "source": [
    "p1 = Vector2(100, 100)\n",
    "move = Vector2(100, 0)\n",
    "move.rotate_ip(45) # rotate the vector \"in-place\"\n",
    "\n",
    "p1 += move\n",
    "\n",
    "p1"
   ]
  },
  {
   "cell_type": "markdown",
   "metadata": {},
   "source": [
    "When you add vectors, you really just add the x and y values together. \n"
   ]
  },
  {
   "cell_type": "code",
   "execution_count": 2,
   "metadata": {},
   "outputs": [
    {
     "name": "stdout",
     "output_type": "stream",
     "text": [
      "[30, 30]\n"
     ]
    }
   ],
   "source": [
    "from  pygame import Vector2\n",
    "\n",
    "v1 = Vector2(10, 10 )\n",
    "v2 = Vector2(20, 20 )\n",
    "\n",
    "\n",
    "print(v1 + v2)"
   ]
  },
  {
   "cell_type": "markdown",
   "metadata": {},
   "source": [
    "Rotating a vector changes both the x and y values. The x value is changed by \n",
    "`cos(angle) * x`, and the y value is changed by `sin(angle) * y`. \n"
   ]
  },
  {
   "cell_type": "code",
   "execution_count": 4,
   "metadata": {},
   "outputs": [
    {
     "name": "stdout",
     "output_type": "stream",
     "text": [
      "[10, 10]\n",
      "[7.07107, 7.07107]\n",
      "[17.0711, 17.0711]\n"
     ]
    }
   ],
   "source": [
    "v1 = Vector2(10,10)\n",
    "move = Vector2(10, 0).rotate(45)\n",
    "\n",
    "print(v1)\n",
    "print(move)\n",
    "\n",
    "print(v1 + move)\n"
   ]
  },
  {
   "cell_type": "markdown",
   "metadata": {},
   "source": [
    "## Assignment 1\n",
    "\n",
    "Draw a square with Vectors. \n",
    "\n",
    "1. Open and read `01a_vector_example.py` and run the program.\n",
    "2. Create vector v1 with x = 0 and y = 1 \n",
    "3. Scale the vector by 10 with multiplication, then rotate it by 90 degrees so\n",
    "   it points to the right.\n",
    "4. Draw the vector from the position (5,5) on the grid.\n",
    "5. Create a new vector v2 by rotating v1 by 90 dregrees, and draw it from the\n",
    "   ending position of v1 ( which is the return value from the draw_v20()\n",
    "   function )\n",
    "6. Continue rotating and drawing until you have drawn a square. "
   ]
  },
  {
   "cell_type": "markdown",
   "metadata": {},
   "source": [
    "Using vectors instead of seperate x and y makes our programs easier to write, read and debug. \n"
   ]
  },
  {
   "cell_type": "markdown",
   "metadata": {},
   "source": [
    "## Next Steps\n",
    "\n",
    "Your next lesson is [02_Using_Vectors](02_Using_Vectors.ipynb)."
   ]
  },
  {
   "cell_type": "markdown",
   "metadata": {},
   "source": []
  }
 ],
 "metadata": {
  "kernelspec": {
   "display_name": ".venv",
   "language": "python",
   "name": "python3"
  },
  "language_info": {
   "codemirror_mode": {
    "name": "ipython",
    "version": 3
   },
   "file_extension": ".py",
   "mimetype": "text/x-python",
   "name": "python",
   "nbconvert_exporter": "python",
   "pygments_lexer": "ipython3",
   "version": "3.12.4"
  }
 },
 "nbformat": 4,
 "nbformat_minor": 2
}
